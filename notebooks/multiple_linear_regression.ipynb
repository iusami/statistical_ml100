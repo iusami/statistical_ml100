{
 "cells": [
  {
   "cell_type": "code",
   "execution_count": 1,
   "metadata": {},
   "outputs": [],
   "source": [
    "import numpy as np\n",
    "from matplotlib import pyplot as plt"
   ]
  },
  {
   "cell_type": "code",
   "execution_count": 23,
   "metadata": {},
   "outputs": [],
   "source": [
    "#prepare data\n",
    "N = 100\n",
    "beta = np.array([1,2,3])\n",
    "X = np.random.randn(N, 2)\n",
    "X = np.hstack((np.ones((N, 1)), X))\n",
    "y = beta[0] * X[:,1] +  beta[1]* X[:,2] + beta[2]"
   ]
  },
  {
   "cell_type": "code",
   "execution_count": 26,
   "metadata": {},
   "outputs": [],
   "source": [
    "beta_hat = np.linalg.inv(X.T.dot(X)).dot(X.T).dot(y)"
   ]
  },
  {
   "cell_type": "code",
   "execution_count": 27,
   "metadata": {},
   "outputs": [
    {
     "data": {
      "text/plain": [
       "array([3., 1., 2.])"
      ]
     },
     "execution_count": 27,
     "metadata": {},
     "output_type": "execute_result"
    }
   ],
   "source": [
    "beta_hat"
   ]
  },
  {
   "cell_type": "code",
   "execution_count": 48,
   "metadata": {},
   "outputs": [],
   "source": [
    "#関数化\n",
    "def min_sq(X,y):\n",
    "    X_mean = np.mean(X, dtype=np.float64)\n",
    "    y_mean = np.mean(y, dtype=np.float64)\n",
    "    denom = sum([(i - X_mean) * (j - y_mean)  for i, j in zip(X, y)])\n",
    "    frac = sum([(i - X_mean) ** 2 for i in X])\n",
    "    beta1 = denom / frac\n",
    "    beta0 = y_mean - beta1 * X_mean\n",
    "    \n",
    "    return beta0, beta1"
   ]
  },
  {
   "cell_type": "code",
   "execution_count": 51,
   "metadata": {},
   "outputs": [],
   "source": [
    "for i in range(100):\n",
    "    N = 50\n",
    "    b = np.random.randn(N)\n",
    "    X = np.random.randn(N) + 2\n",
    "    y =  X + b + 1\n",
    "    if i == 0 :\n",
    "        beta_hat_arr = min_sq(X, y)\n",
    "        continue\n",
    "    beta_hat_arr = np.vstack((beta_hat_arr, min_sq(X, y)))"
   ]
  },
  {
   "cell_type": "code",
   "execution_count": 52,
   "metadata": {
    "scrolled": true
   },
   "outputs": [
    {
     "data": {
      "text/plain": [
       "array([[0.14958755, 1.34502132],\n",
       "       [0.94480606, 1.11334716],\n",
       "       [0.65318782, 1.10770886],\n",
       "       [1.73096774, 0.69278392],\n",
       "       [1.21463197, 0.8840725 ],\n",
       "       [1.50572296, 0.75590103],\n",
       "       [1.08565823, 0.95714262],\n",
       "       [0.6710654 , 1.10791206],\n",
       "       [1.26348165, 0.83881983],\n",
       "       [1.10313369, 0.88879381],\n",
       "       [1.05685315, 1.02080343],\n",
       "       [1.1149767 , 1.0276721 ],\n",
       "       [0.97487528, 0.97418704],\n",
       "       [0.97880558, 0.95369904],\n",
       "       [1.12830834, 0.93545621],\n",
       "       [0.82067622, 1.06875177],\n",
       "       [1.27904999, 0.9829291 ],\n",
       "       [1.71756884, 0.71098749],\n",
       "       [0.68296479, 1.13517427],\n",
       "       [0.63328486, 1.20419115],\n",
       "       [0.98326324, 0.94544878],\n",
       "       [1.15063828, 0.93420551],\n",
       "       [1.27029326, 0.88114094],\n",
       "       [1.05411402, 0.83874171],\n",
       "       [0.76484805, 1.01878736],\n",
       "       [1.00655339, 0.92511427],\n",
       "       [1.19634062, 0.89092843],\n",
       "       [0.93651429, 0.87674042],\n",
       "       [0.47860625, 1.34870188],\n",
       "       [0.28626642, 1.25933589],\n",
       "       [1.47682789, 0.78968617],\n",
       "       [0.8576851 , 0.97076167],\n",
       "       [1.88636929, 0.62931927],\n",
       "       [0.81833215, 1.01885378],\n",
       "       [1.6825074 , 0.61418668],\n",
       "       [0.92428376, 1.07186194],\n",
       "       [0.29048576, 1.27944058],\n",
       "       [1.80164017, 0.54907093],\n",
       "       [1.02822218, 1.04964982],\n",
       "       [1.38932662, 0.81494005],\n",
       "       [1.14960994, 0.98477779],\n",
       "       [1.16796963, 0.87881325],\n",
       "       [1.25571065, 0.96555744],\n",
       "       [1.0362104 , 1.16765388],\n",
       "       [0.70704354, 1.09791593],\n",
       "       [0.54782994, 1.06596705],\n",
       "       [1.49277184, 0.78975782],\n",
       "       [0.96801939, 0.88048942],\n",
       "       [1.25997255, 0.8260168 ],\n",
       "       [1.4371474 , 0.85440734],\n",
       "       [1.12226618, 0.93914662],\n",
       "       [0.98674346, 0.97514955],\n",
       "       [1.1383483 , 1.01331504],\n",
       "       [0.84809811, 1.0787902 ],\n",
       "       [1.08139753, 1.02732495],\n",
       "       [1.12138374, 0.83586115],\n",
       "       [0.80037002, 1.0584928 ],\n",
       "       [1.05481865, 0.97547831],\n",
       "       [1.10114892, 1.11614168],\n",
       "       [1.02487902, 0.98536534],\n",
       "       [0.35567775, 1.31527912],\n",
       "       [1.23864801, 0.92587831],\n",
       "       [1.6169372 , 0.63611976],\n",
       "       [1.81172084, 0.66809671],\n",
       "       [0.43148773, 1.0715373 ],\n",
       "       [0.9594321 , 1.12725305],\n",
       "       [0.96274215, 1.12202658],\n",
       "       [1.11408076, 1.05986483],\n",
       "       [1.1549145 , 0.9492284 ],\n",
       "       [1.37146561, 0.89017223],\n",
       "       [1.11562845, 0.83782573],\n",
       "       [1.55073444, 0.81055555],\n",
       "       [0.9128146 , 1.02011468],\n",
       "       [1.33366323, 0.8359781 ],\n",
       "       [0.76981528, 0.99897442],\n",
       "       [0.93767918, 1.01659864],\n",
       "       [1.11435752, 0.90907647],\n",
       "       [0.58341612, 1.10001167],\n",
       "       [0.56742364, 1.06640986],\n",
       "       [1.08469684, 0.95135616],\n",
       "       [0.98656388, 0.98862021],\n",
       "       [0.43496761, 1.21988384],\n",
       "       [1.20549919, 0.87140675],\n",
       "       [1.24826966, 0.86169204],\n",
       "       [0.86899732, 1.02070232],\n",
       "       [0.2291144 , 1.2207543 ],\n",
       "       [1.31778525, 0.84130918],\n",
       "       [0.99190492, 1.08544973],\n",
       "       [0.65017774, 1.10219236],\n",
       "       [1.23403254, 0.90832596],\n",
       "       [1.28599602, 0.81622406],\n",
       "       [0.69516357, 1.1176242 ],\n",
       "       [0.82509295, 1.10827109],\n",
       "       [0.7313654 , 1.15574596],\n",
       "       [0.65665346, 1.25546591],\n",
       "       [1.30366189, 0.90452941],\n",
       "       [0.85158411, 1.05451708],\n",
       "       [0.99362698, 0.98839823],\n",
       "       [1.24073877, 0.87608177],\n",
       "       [0.71990482, 1.11100627]])"
      ]
     },
     "execution_count": 52,
     "metadata": {},
     "output_type": "execute_result"
    }
   ],
   "source": [
    "beta_hat_arr"
   ]
  },
  {
   "cell_type": "code",
   "execution_count": 53,
   "metadata": {},
   "outputs": [
    {
     "data": {
      "text/plain": [
       "<matplotlib.collections.PathCollection at 0x123886110>"
      ]
     },
     "execution_count": 53,
     "metadata": {},
     "output_type": "execute_result"
    },
    {
     "data": {
      "image/png": "[encoded data removed]",
      "text/plain": [
       "<Figure size 432x288 with 1 Axes>"
      ]
     },
     "metadata": {
      "needs_background": "light"
     },
     "output_type": "display_data"
    }
   ],
   "source": [
    "plt.scatter(beta_hat_arr[:,0],beta_hat_arr[:,1])"
   ]
  }
 ],
 "metadata": {
  "kernelspec": {
   "display_name": "Python 3",
   "language": "python",
   "name": "python3"
  },
  "language_info": {
   "codemirror_mode": {
    "name": "ipython",
    "version": 3
   },
   "file_extension": ".py",
   "mimetype": "text/x-python",
   "name": "python",
   "nbconvert_exporter": "python",
   "pygments_lexer": "ipython3",
   "version": "3.7.5"
  }
 },
 "nbformat": 4,
 "nbformat_minor": 4
}
